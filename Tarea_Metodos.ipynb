{
  "nbformat": 4,
  "nbformat_minor": 0,
  "metadata": {
    "colab": {
      "name": "Tarea Metodos",
      "provenance": [],
      "collapsed_sections": [],
      "authorship_tag": "ABX9TyMusXrbisvf9HxcYoiZJMCf",
      "include_colab_link": true
    },
    "kernelspec": {
      "name": "python3",
      "display_name": "Python 3"
    }
  },
  "cells": [
    {
      "cell_type": "markdown",
      "metadata": {
        "id": "view-in-github",
        "colab_type": "text"
      },
      "source": [
        "<a href=\"https://colab.research.google.com/github/AngelBello06/Tarea/blob/main/Tarea_Metodos.ipynb\" target=\"_parent\"><img src=\"https://colab.research.google.com/assets/colab-badge.svg\" alt=\"Open In Colab\"/></a>"
      ]
    },
    {
      "cell_type": "code",
      "metadata": {
        "id": "ij_5y7bkCWIf",
        "outputId": "f93fb195-c6d5-4db1-a1be-bfeb68aa7b38",
        "colab": {
          "base_uri": "https://localhost:8080/"
        }
      },
      "source": [
        "# Problema 1\n",
        "a= int(input(\" Introduzca el numero: \"))\n",
        "if a%2==0:\n",
        "  print(\"Par\")\n",
        "else:\n",
        "  print(\"Impar\")"
      ],
      "execution_count": null,
      "outputs": [
        {
          "output_type": "stream",
          "text": [
            " Introduzca el numero: 9\n",
            "Impar\n"
          ],
          "name": "stdout"
        }
      ]
    },
    {
      "cell_type": "code",
      "metadata": {
        "id": "V0P9vk2ZEQZ4",
        "outputId": "4df1b3f6-9f5e-41bd-f390-54eb7d1c7559",
        "colab": {
          "base_uri": "https://localhost:8080/"
        }
      },
      "source": [
        "# Problema 2\n",
        "a = str( input(\" Introduxca el texto: \"))\n",
        "b = int( input(\" Cuantas veces: \"))\n",
        "c =(a*b)\n",
        "print(\" \",c)"
      ],
      "execution_count": null,
      "outputs": [
        {
          "output_type": "stream",
          "text": [
            " Introduxca el texto:  I <3 IPN\n",
            " Cuantas veces: 7\n",
            "   I <3 IPN I <3 IPN I <3 IPN I <3 IPN I <3 IPN I <3 IPN I <3 IPN\n"
          ],
          "name": "stdout"
        }
      ]
    },
    {
      "cell_type": "code",
      "metadata": {
        "id": "THCyc6gEk42e",
        "outputId": "9b44c685-2669-4da9-9559-2223d997b88b",
        "colab": {
          "base_uri": "https://localhost:8080/"
        }
      },
      "source": [
        "# Problema 3\n",
        "def pago(val1):\n",
        "  dia = ( val1 *150)\n",
        "  sem = (dia *5)\n",
        "  mes = (dia * 20)\n",
        "  print(\"salario x dia:\", dia)\n",
        "  print(\"salario x semana:\", sem)\n",
        "  print(\"salario x mes:\", mes)\n",
        "h = float(input(\" Ingrese las horas: \"))\n",
        "pago(h)"
      ],
      "execution_count": null,
      "outputs": [
        {
          "output_type": "stream",
          "text": [
            " Ingrese las horas: 8\n",
            "salario x dia: 1200.0\n",
            "salario x semana: 6000.0\n",
            "salario x mes: 24000.0\n"
          ],
          "name": "stdout"
        }
      ]
    },
    {
      "cell_type": "code",
      "metadata": {
        "id": "itBATnsIKssd",
        "outputId": "eef60abc-8516-4c8f-fb36-86d944013c9d",
        "colab": {
          "base_uri": "https://localhost:8080/"
        }
      },
      "source": [
        "# Problema 4\n",
        "n = str(input(\"Seleccione una opcion: a = suma b = resta c = multi d= divi: \"))\n",
        "if n == \"a\":\n",
        "  x = int(input(\" Dame el primer valor: \"))\n",
        "  y = int(input(\" Dame el segundo valor: \"))\n",
        "  print(\"La suma es: \",(x + y))\n",
        "if n == \"b\":\n",
        "  x = int(input(\" Dame el primer valor: \"))\n",
        "  y = int(input(\" Dame el segundo valor: \"))\n",
        "  print(\"La resta es: \",(x - y))\n",
        "if n == \"c\":\n",
        "  x = int(input(\" Dame el primer valor: \"))\n",
        "  y = int(input(\" Dame el segundo valor: \"))\n",
        "  print(\"El producto es:\",(x * y))\n",
        "if n == \"d\":\n",
        "  x = int(input(\" Dame el primer valor: \"))\n",
        "  y = int(input(\" Dame el segundo valor: \"))\n",
        "  while y == 0:\n",
        "   print(\"EL DIVISOR NO PUEDE SER 0 \")\n",
        "   y = int(input(\" Dame el segundo valor: \"))\n",
        "  print(x/y)\n"
      ],
      "execution_count": null,
      "outputs": [
        {
          "output_type": "stream",
          "text": [
            "Seleccione una opcion: a = suma b = resta c = multi d= divi: d\n",
            " Dame el primer valor: 6\n",
            " Dame el segundo valor: 0\n",
            "EL DIVISOR NO PUEDE SER 0 \n",
            " Dame el segundo valor: 0\n",
            "EL DIVISOR NO PUEDE SER 0 \n",
            " Dame el segundo valor: 0\n",
            "EL DIVISOR NO PUEDE SER 0 \n",
            " Dame el segundo valor: 0\n",
            "EL DIVISOR NO PUEDE SER 0 \n",
            " Dame el segundo valor: 7\n",
            "0.8571428571428571\n"
          ],
          "name": "stdout"
        }
      ]
    },
    {
      "cell_type": "code",
      "metadata": {
        "id": "zjIe8mbi2vz-",
        "outputId": "866ed362-1026-4062-857b-186a71c7f11d",
        "colab": {
          "base_uri": "https://localhost:8080/"
        }
      },
      "source": [
        "# Problema 5\n",
        "def peso(val1 , val2):\n",
        "  res = val1 + val2\n",
        "  ext = (-10000 + res)\n",
        "  if res <= 10000: \n",
        "    print(\" El Pedido es correcto \")\n",
        "  else:\n",
        "    print(\" SE PASA POR \",ext, \"g\")\n",
        "\n",
        "payaso = 150\n",
        "juego = 170\n",
        "a = int(input(\" Ingrese el numero de payasos: \"))\n",
        "b = int(input(\" Ingrese el numero de juegos de mesa: \"))\n",
        "c = (payaso*a)\n",
        "d = (juego*b)\n",
        "peso(c, d)"
      ],
      "execution_count": null,
      "outputs": [
        {
          "output_type": "stream",
          "text": [
            " Ingrese el numero de payasos: 90\n",
            " Ingrese el numero de juegos de mesa: 69\n",
            " SE PASA POR  15230 g\n"
          ],
          "name": "stdout"
        }
      ]
    },
    {
      "cell_type": "code",
      "metadata": {
        "id": "oBS4GzGVM_FB",
        "outputId": "57092d17-dd41-4b0d-dae9-698f9ee841f4",
        "colab": {
          "base_uri": "https://localhost:8080/"
        }
      },
      "source": [
        "# Problema 6\n",
        "def salario(val1):\n",
        "  if val1 < 10000:\n",
        "    print(val1 - (val1*5)/100)\n",
        "  if 10000 < val1 < 15000:\n",
        "    print(val1 - (val1*10)/100)\n",
        "  if 15000 < val1 < 20000:\n",
        "    print(val1 - (val1*15)/100)\n",
        "  if val1 > 20000:\n",
        "    print(val1 - (val1*18)/100)\n",
        "x = float(input(\"Ingresa tu salario: \"))\n",
        "salario(x)"
      ],
      "execution_count": null,
      "outputs": [
        {
          "output_type": "stream",
          "text": [
            "Ingresa tu salario: 12000\n",
            "10800.0\n"
          ],
          "name": "stdout"
        }
      ]
    },
    {
      "cell_type": "code",
      "metadata": {
        "id": "P_WBB5XLM_r9",
        "outputId": "899de246-6857-4e37-ef94-0b5dc7530d33",
        "colab": {
          "base_uri": "https://localhost:8080/"
        }
      },
      "source": [
        "# Problema 7\n",
        "A = [0, 50, 100]\n",
        "a = int(input(\" EDAD: \"))\n",
        "if (a <= 4):\n",
        "  print(\"SU PRECIOS ES: \", A[0])\n",
        "if (4 < a < 16):\n",
        "  print(\" SU PRECIO ES: \", A[1])\n",
        "if (a> 16):\n",
        "  print(\" SU PRECIO ES: \", A[2])\n",
        "B = [10, 30, 50]\n",
        "B.append(0)\n",
        "b = str(input(\" TIPO DE CREDENCIAL? ESTUDIANTE, DOCENTE, INAPAM: \"))\n",
        "if (b == \"ESTUDIANTE\"):\n",
        "  print(\"SU DESCUENTO ES DE: \" , ((B[0] * 50)/100) ,\"PESOS\")\n",
        "if (b == \"DOCENTE\"):\n",
        "  print(\"SU DESCUENTO ES DE: \" , ((B[1] * 100)/100) ,\"PESOS\")\n",
        "if (b == \"ADULTO\"):\n",
        "  print(\"SU DESCUENTO ES DE: \" , ((B[2] * 50)/100) ,\"PESOS\")\n",
        "else:\n",
        "  print(\"SU DESCUENTO ES DE: +\" , B[3],\"PESOS\")\n",
        "e = ((B[0] * 50)/100)\n",
        "d = ((B[1] * 100)/100)\n",
        "i = ((B[2] * 50)/100)\n",
        "C = [0, 0, 0, 0, 0, 0, 0]\n",
        "C[0]= (A[0])\n",
        "C[1]= (A[1] - e)\n",
        "C[2]= (A[1] - 0)\n",
        "C[3]= (A[2] - e)\n",
        "C[4]= (A[2] - d)\n",
        "C[5]= (A[2] - i)\n",
        "C[6]= (A[2] - 0)\n",
        "print(\"PRECIOS CON DESCUENTOS\", C)"
      ],
      "execution_count": null,
      "outputs": [
        {
          "output_type": "stream",
          "text": [
            " EDAD: 29\n",
            " SU PRECIO ES:  100\n",
            " TIPO DE CREDENCIAL? ESTUDIANTE, DOCENTE, INAPAM: Docente\n",
            "SU DESCUENTO ES DE: + 0 PESOS\n",
            "PRECIOS CON DESCUENTOS [0, 45.0, 50, 95.0, 70.0, 75.0, 100]\n"
          ],
          "name": "stdout"
        }
      ]
    },
    {
      "cell_type": "code",
      "metadata": {
        "id": "-fNuEiHZM_zR",
        "outputId": "44574a06-c6b2-4931-9861-2f769248c6ad",
        "colab": {
          "base_uri": "https://localhost:8080/"
        }
      },
      "source": [
        "# Problema 8\n",
        "def triangulo(n):\n",
        "  return \"\\n\".join([\"*\"*i for i in range(1,n+1)])\n",
        "numero = int(input(\"NUMERO: \"))\n",
        "print(triangulo(numero))"
      ],
      "execution_count": null,
      "outputs": [
        {
          "output_type": "stream",
          "text": [
            "NUMERO: 8\n",
            "*\n",
            "**\n",
            "***\n",
            "****\n",
            "*****\n",
            "******\n",
            "*******\n",
            "********\n"
          ],
          "name": "stdout"
        }
      ]
    },
    {
      "cell_type": "code",
      "metadata": {
        "id": "6rMrBRsAM_7y",
        "outputId": "5d1cf7b3-2bb0-4ab8-d3ac-4d67938a8901",
        "colab": {
          "base_uri": "https://localhost:8080/"
        }
      },
      "source": [
        "# Problema 9\n",
        "def factorial(val1):\n",
        "  x = y*(y-1)\n",
        "  print(x)\n",
        "  if y==0:\n",
        "    return 1\n",
        "y = int(input(\" Inserte un numero : \"))\n",
        "factorial(y)"
      ],
      "execution_count": null,
      "outputs": [
        {
          "output_type": "stream",
          "text": [
            " Inserte un numero : 3\n",
            "6\n"
          ],
          "name": "stdout"
        }
      ]
    },
    {
      "cell_type": "code",
      "metadata": {
        "id": "M1iUeVM1NJtO",
        "outputId": "3789d6cc-3f17-469b-bb8b-e6a491439131",
        "colab": {
          "base_uri": "https://localhost:8080/"
        }
      },
      "source": [
        "# Problema 10\n",
        "def circulo(val1):\n",
        "  area = (val1 ** 2 *p)\n",
        "  print(\"EL AREA DEL CIRCULO ES:\", area)\n",
        "  def cilindro(val2):\n",
        "    res = (area * val2)\n",
        "    print(\"EL AREA DEL CILINDRO ES: \", res)\n",
        "p = 3.1416\n",
        "r = float(input(\" INGRESE EL RADIO DEL CIRCULO: \"))\n",
        "circulo(r)\n",
        "area = (r ** 2 *p)\n",
        "h = float(input(\" INGRESE LA ALTURA DEL CILINDRO: \"))\n",
        "cilindro(h)"
      ],
      "execution_count": null,
      "outputs": [
        {
          "output_type": "stream",
          "text": [
            " INGRESE EL RADIO DEL CIRCULO: 5\n",
            "EL AREA DEL CIRCULO ES: 78.53999999999999\n",
            " INGRESE LA ALTURA DEL CILINDRO: 6\n",
            "EL AREA DEL CILINDRO ES:  471.23999999999995\n"
          ],
          "name": "stdout"
        }
      ]
    }
  ]
}